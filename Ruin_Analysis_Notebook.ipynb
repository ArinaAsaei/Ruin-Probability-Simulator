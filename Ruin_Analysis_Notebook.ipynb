{
  "cells": [
    {
      "cell_type": "markdown",
      "metadata": {
        "id": "OqhodRuvMGSq"
      },
      "source": [
        "# Install all required libraries"
      ]
    },
    {
      "cell_type": "code",
      "execution_count": null,
      "metadata": {
        "colab": {
          "base_uri": "https://localhost:8080/"
        },
        "id": "5muIJTxPL4xR",
        "outputId": "9e50b4f5-c7d5-4d1a-8ce2-1564e720928d"
      },
      "outputs": [
        {
          "output_type": "stream",
          "name": "stdout",
          "text": [
            "\u001b[2K     \u001b[90m━━━━━━━━━━━━━━━━━━━━━━━━━━━━━━━━━━━━━━━━\u001b[0m \u001b[32m44.3/44.3 kB\u001b[0m \u001b[31m2.5 MB/s\u001b[0m eta \u001b[36m0:00:00\u001b[0m\n",
            "\u001b[2K   \u001b[90m━━━━━━━━━━━━━━━━━━━━━━━━━━━━━━━━━━━━━━━━\u001b[0m \u001b[32m9.9/9.9 MB\u001b[0m \u001b[31m59.5 MB/s\u001b[0m eta \u001b[36m0:00:00\u001b[0m\n",
            "\u001b[2K   \u001b[90m━━━━━━━━━━━━━━━━━━━━━━━━━━━━━━━━━━━━━━━━\u001b[0m \u001b[32m6.9/6.9 MB\u001b[0m \u001b[31m66.4 MB/s\u001b[0m eta \u001b[36m0:00:00\u001b[0m\n",
            "\u001b[2K   \u001b[90m━━━━━━━━━━━━━━━━━━━━━━━━━━━━━━━━━━━━━━━━\u001b[0m \u001b[32m79.1/79.1 kB\u001b[0m \u001b[31m5.1 MB/s\u001b[0m eta \u001b[36m0:00:00\u001b[0m\n",
            "\u001b[?25h"
          ]
        }
      ],
      "source": [
        "# streamlit: For building the web application interface\n",
        "# pyngrok: To expose the Streamlit app from Google Colab to the web\n",
        "!pip install streamlit pyngrok -q"
      ]
    },
    {
      "cell_type": "markdown",
      "metadata": {
        "id": "5HAkYEHiMhqy"
      },
      "source": [
        "# Import libraries"
      ]
    },
    {
      "cell_type": "code",
      "execution_count": null,
      "metadata": {
        "id": "_CuQzZ4aMQnu"
      },
      "outputs": [],
      "source": [
        "import numpy as np\n",
        "import scipy.stats"
      ]
    },
    {
      "cell_type": "markdown",
      "metadata": {
        "id": "zavZsKRNMeNP"
      },
      "source": [
        "# The Core Simulation Function"
      ]
    },
    {
      "cell_type": "markdown",
      "metadata": {
        "id": "ErwUaySzM9to"
      },
      "source": [
        "Next, we'll write the most important function: the one that simulates a single path of the surplus process. This function will be the heart of our application."
      ]
    },
    {
      "cell_type": "code",
      "execution_count": null,
      "metadata": {
        "colab": {
          "base_uri": "https://localhost:8080/"
        },
        "id": "ON9vDva5ZVki",
        "outputId": "6f4c02b2-3c59-45f8-ddea-5f1c5ee330fe"
      },
      "outputs": [
        {
          "output_type": "stream",
          "name": "stdout",
          "text": [
            "Overwriting app.py\n"
          ]
        }
      ],
      "source": [
        "%%writefile app.py\n",
        "import streamlit as st\n",
        "import numpy as np\n",
        "import scipy.stats\n",
        "import plotly.graph_objects as go\n",
        "import pandas as pd\n",
        "import plotly.colors\n",
        "import time\n",
        "\n",
        "# --- PAGE CONFIGURATION ---\n",
        "st.set_page_config(\n",
        "    page_title=\"Ruin Theory Simulator\",\n",
        "    page_icon=\"📉\",\n",
        "    layout=\"wide\"\n",
        ")\n",
        "\n",
        "# --- BACKEND SIMULATION ENGINE ---\n",
        "# The simulate_one_path function remains the same as the last optimized version\n",
        "def simulate_one_path(initial_surplus, interest_rate, time_horizon, premium_params, claim_params, store_path_history=False):\n",
        "    \"\"\"\n",
        "    Optimized version: Simulates a single path. Only stores the full path if requested.\n",
        "    \"\"\"\n",
        "    current_time = 0.0\n",
        "    current_surplus = initial_surplus\n",
        "\n",
        "    path_data = [(current_time, current_surplus)] if store_path_history else None\n",
        "\n",
        "    lambda_premium = premium_params['rate']\n",
        "    lambda_claim = claim_params['rate']\n",
        "    lambda_total = lambda_premium + lambda_claim\n",
        "\n",
        "    while current_time < time_horizon:\n",
        "        waiting_time = np.random.exponential(scale=1/lambda_total)\n",
        "\n",
        "        if current_time + waiting_time > time_horizon:\n",
        "            current_surplus *= np.exp(interest_rate * (time_horizon - current_time))\n",
        "            current_time = time_horizon\n",
        "            if store_path_history:\n",
        "                path_data.append((current_time, current_surplus))\n",
        "            break\n",
        "\n",
        "        current_surplus *= np.exp(interest_rate * waiting_time)\n",
        "        current_time += waiting_time\n",
        "\n",
        "        if store_path_history:\n",
        "            path_data.append((current_time, current_surplus))\n",
        "\n",
        "        event_type = np.random.choice(['premium', 'claim'], p=[lambda_premium/lambda_total, lambda_claim/lambda_total])\n",
        "\n",
        "        if event_type == 'premium':\n",
        "            current_surplus += np.random.choice(premium_params['values'], p=premium_params['probs'])\n",
        "        else: # claim\n",
        "            dist_name = claim_params['dist'].lower()\n",
        "            dist_params = claim_params['params']\n",
        "\n",
        "            if dist_name == 'pareto':\n",
        "                current_surplus -= scipy.stats.pareto.rvs(b=dist_params['shape'], scale=dist_params['scale'], size=1)[0]\n",
        "            elif dist_name == 'lognormal':\n",
        "                current_surplus -= scipy.stats.lognorm.rvs(s=dist_params['sigma'], scale=np.exp(dist_params['mu']), size=1)[0]\n",
        "            elif dist_name == 'gamma':\n",
        "                current_surplus -= scipy.stats.gamma.rvs(a=dist_params['shape'], scale=dist_params['scale'], size=1)[0]\n",
        "            else:\n",
        "                raise ValueError(f\"Unsupported distribution: {dist_name}\")\n",
        "\n",
        "        if store_path_history:\n",
        "            path_data.append((current_time, current_surplus))\n",
        "\n",
        "        if current_surplus <= 0:\n",
        "            return {'is_ruined': True, 'path_data': path_data, 'ruin_time': current_time}\n",
        "\n",
        "    return {'is_ruined': False, 'path_data': path_data, 'ruin_time': None}\n",
        "\n",
        "\n",
        "# --- STREAMLIT USER INTERFACE ---\n",
        "\n",
        "# Sidebar remains the same\n",
        "st.sidebar.title(\"⚙️ Simulation Parameters\")\n",
        "with st.sidebar.expander(\"General Settings\", expanded=True):\n",
        "    p_initial_surplus = st.number_input(\"Initial Surplus (u)\", min_value=0.0, value=100.0, step=10.0)\n",
        "    p_time_horizon = st.number_input(\"Time Horizon (τ)\", min_value=1.0, value=50.0, step=5.0)\n",
        "    p_interest_rate = st.slider(\"Risk-Free Interest Rate (γ)\", min_value=0.0, max_value=0.2, value=0.03, step=0.005, format=\"%.3f\")\n",
        "    p_num_paths = st.number_input(\"Number of Simulations (N)\", min_value=100, max_value=1000000000, value=10000, step=1000)\n",
        "with st.sidebar.expander(\"Premium Distribution\", expanded=True):\n",
        "    p_lambda_premium = st.number_input(\"Premium Arrival Rate (λ₁)\", min_value=0.1, value=5.0, step=0.1)\n",
        "    st.markdown(\"###### Premium Amount (Discrete Distribution)\")\n",
        "    col1, col2 = st.columns(2)\n",
        "    with col1:\n",
        "        p_prem_val1 = st.number_input(\"Value 1\", value=10.0, step=1.0)\n",
        "        p_prem_val2 = st.number_input(\"Value 2\", value=15.0, step=1.0)\n",
        "        p_prem_val3 = st.number_input(\"Value 3\", value=20.0, step=1.0)\n",
        "    with col2:\n",
        "        p_prem_prob1 = st.number_input(\"Prob 1\", min_value=0.0, max_value=1.0, value=0.5, step=0.05)\n",
        "        p_prem_prob2 = st.number_input(\"Prob 2\", min_value=0.0, max_value=1.0, value=0.3, step=0.05)\n",
        "        p_prem_prob3 = st.number_input(\"Prob 3\", min_value=0.0, max_value=1.0, value=0.2, step=0.05)\n",
        "with st.sidebar.expander(\"Claim Distribution\", expanded=True):\n",
        "    p_lambda_claim = st.number_input(\"Claim Arrival Rate (λ₂)\", min_value=0.1, value=2.0, step=0.1)\n",
        "    p_claim_dist = st.selectbox(\"Claim Severity Distribution\", ['pareto', 'lognormal', 'gamma'])\n",
        "    claim_dist_params = {}\n",
        "    if p_claim_dist == 'pareto':\n",
        "        st.markdown(\"###### Pareto Parameters\")\n",
        "        p_pareto_shape = st.number_input(\"Shape (α)\", min_value=1.01, value=1.5, step=0.1)\n",
        "        p_pareto_scale = st.number_input(\"Scale (xm)\", min_value=0.1, value=30.0, step=1.0)\n",
        "        claim_dist_params = {'shape': p_pareto_shape, 'scale': p_pareto_scale}\n",
        "    elif p_claim_dist == 'lognormal':\n",
        "        st.markdown(\"###### Lognormal Parameters\")\n",
        "        p_lognorm_mu = st.number_input(\"Log Mean (μ)\", value=3.0, step=0.1)\n",
        "        p_lognorm_sigma = st.number_input(\"Log Std Dev (σ)\", min_value=0.1, value=0.8, step=0.1)\n",
        "        claim_dist_params = {'mu': p_lognorm_mu, 'sigma': p_lognorm_sigma}\n",
        "    elif p_claim_dist == 'gamma':\n",
        "        st.markdown(\"###### Gamma Parameters\")\n",
        "        p_gamma_shape = st.number_input(\"Shape (k)\", min_value=0.1, value=2.0, step=0.1)\n",
        "        p_gamma_scale = st.number_input(\"Scale (θ)\", min_value=0.1, value=25.0, step=1.0)\n",
        "        claim_dist_params = {'shape': p_gamma_shape, 'scale': p_gamma_scale}\n",
        "\n",
        "st.title(\"📉 Ruin Probability Monte Carlo Simulator\")\n",
        "st.markdown(\"Use the sidebar to configure parameters and click the button below to run the analysis.\")\n",
        "\n",
        "if st.button(\"🚀 Run Simulation\", type=\"primary\", use_container_width=True):\n",
        "    p_prem_probs = [p_prem_prob1, p_prem_prob2, p_prem_prob3]\n",
        "    if not np.isclose(sum(p_prem_probs), 1.0):\n",
        "        st.sidebar.error(\"Error: Premium probabilities must sum to 1.0\")\n",
        "    else:\n",
        "        # --- REFACTORED SIMULATION LOGIC WITH PROGRESS BAR ---\n",
        "\n",
        "        # 1. Package parameters\n",
        "        premium_params = {'rate': p_lambda_premium, 'values': [p_prem_val1, p_prem_val2, p_prem_val3], 'probs': p_prem_probs}\n",
        "        claim_params = {'rate': p_lambda_claim, 'dist': p_claim_dist, 'params': claim_dist_params}\n",
        "\n",
        "        # 2. Initialize result aggregators\n",
        "        ruined_path_count = 0\n",
        "        ruin_times = []\n",
        "        sample_paths_data = []\n",
        "        num_paths_to_plot = 5\n",
        "\n",
        "        # 3. Create progress bar and status text placeholders\n",
        "        st.markdown(\"---\")\n",
        "        progress_bar = st.progress(0)\n",
        "        status_text = st.empty()\n",
        "\n",
        "        # 4. The main simulation loop is now here in the UI script\n",
        "        start_time = time.time()\n",
        "        for i in range(p_num_paths):\n",
        "            should_store_history = i < num_paths_to_plot\n",
        "\n",
        "            result = simulate_one_path(\n",
        "                p_initial_surplus, p_interest_rate, p_time_horizon,\n",
        "                premium_params, claim_params,\n",
        "                store_path_history=should_store_history\n",
        "            )\n",
        "\n",
        "            if result['is_ruined']:\n",
        "                ruined_path_count += 1\n",
        "                ruin_times.append(result['ruin_time'])\n",
        "\n",
        "            if should_store_history:\n",
        "                sample_paths_data.append(result)\n",
        "\n",
        "            # 5. Update progress bar and status text\n",
        "            progress_percentage = (i + 1) / p_num_paths\n",
        "            progress_bar.progress(progress_percentage)\n",
        "            status_text.text(f\"Simulating Path: {i + 1}/{p_num_paths}\")\n",
        "\n",
        "        end_time = time.time()\n",
        "\n",
        "        # Clear the progress bar and status text after completion\n",
        "        progress_bar.empty()\n",
        "        status_text.success(f\"Simulation completed in {end_time - start_time:.2f} seconds.\")\n",
        "\n",
        "        # 6. Finalize and store results\n",
        "        ruin_probability = ruined_path_count / p_num_paths if p_num_paths > 0 else 0\n",
        "        average_ruin_time = np.mean(ruin_times) if ruin_times else 0\n",
        "\n",
        "        st.session_state.results = {\n",
        "            'ruin_probability': ruin_probability, 'average_ruin_time': average_ruin_time,\n",
        "            'sample_paths': sample_paths_data, 'total_paths': p_num_paths,\n",
        "            'ruined_paths': ruined_path_count\n",
        "        }\n",
        "        st.session_state.params_used = {\"Initial Surplus\": p_initial_surplus, \"Time Horizon\": p_time_horizon, \"Interest Rate\": p_interest_rate, \"Num Simulations\": p_num_paths, \"Premium Params\": premium_params, \"Claim Params\": claim_params}\n",
        "\n",
        "\n",
        "# Display results (this part remains the same)\n",
        "if 'results' in st.session_state:\n",
        "    results = st.session_state.results\n",
        "    st.header(\"📊 Simulation Results\")\n",
        "    col1, col2, col3 = st.columns(3)\n",
        "    col1.metric(\"Ruin Probability\", f\"{results['ruin_probability']:.2%}\")\n",
        "    col2.metric(\"Ruined Paths\", f\"{results['ruined_paths']:,} / {results['total_paths']:,}\")\n",
        "    col3.metric(\"Avg. Time to Ruin\", f\"{results['average_ruin_time']:.2f} yrs\" if results['average_ruin_time'] > 0 else \"N/A\")\n",
        "    st.subheader(\"Sample Surplus Paths\")\n",
        "\n",
        "    fig = go.Figure()\n",
        "    fig.add_hline(y=0, line_width=2, line_dash=\"dash\", line_color=\"black\", opacity=0.7)\n",
        "\n",
        "    colors = plotly.colors.qualitative.Plotly\n",
        "    for i, path_result in enumerate(results['sample_paths']):\n",
        "        path_data = path_result['path_data']\n",
        "        time_points, surplus_points = zip(*path_data)\n",
        "        line_color = colors[i % len(colors)]\n",
        "        fig.add_trace(go.Scatter(x=time_points, y=surplus_points, mode='lines', name=f'Path {i+1} ({\"Ruined\" if path_result[\"is_ruined\"] else \"Survived\"})', line=dict(width=2, color=line_color)))\n",
        "\n",
        "    fig.update_layout(title_text=\"Visualization of First 5 Simulated Surplus Paths\", xaxis_title=\"Time (Years)\", yaxis_title=\"Surplus (u)\", hovermode=\"x unified\", legend_title=\"Path Status\")\n",
        "    st.plotly_chart(fig, use_container_width=True)\n",
        "\n",
        "    # with st.expander(\"Show Simulation Parameters Used\"):\n",
        "    #     st.json(st.session_state.params_used)\n",
        "\n",
        "    with st.expander(\"⬇️ Download Results\"):\n",
        "          df_data = {**st.session_state.params_used, **results}\n",
        "          cols_to_drop = ['premium_params', 'claim_params', 'ruin_times', 'sample_paths']\n",
        "          df = pd.DataFrame([df_data])\n",
        "          df = df.drop(columns=cols_to_drop, errors='ignore')\n",
        "          csv = df.to_csv(index=False).encode('utf-8')\n",
        "\n",
        "          st.download_button(\n",
        "               label=\"Download Summary as CSV\",\n",
        "               data=csv,\n",
        "               file_name=\"single_scenario_results.csv\",\n",
        "               mime=\"text/csv\",\n",
        "               use_container_width=True\n",
        "           )\n"
      ]
    },
    {
      "cell_type": "markdown",
      "source": [
        "# How to Run the Demo (in Google Colab)"
      ],
      "metadata": {
        "id": "XWHUH6BNs2ZL"
      }
    },
    {
      "cell_type": "markdown",
      "source": [
        "This project includes a script to quickly launch an online demo of the Streamlit application directly within the Google Colab environment. The script uses ngrok to create a temporary public URL to access the app.\n",
        "\n",
        "The following code is responsible for launching the server:"
      ],
      "metadata": {
        "id": "GH6oFYmktbNl"
      }
    },
    {
      "cell_type": "code",
      "source": [
        "# 1. Kill any existing processes on the port\n",
        "!kill -9 $(lsof -t -i:8501) >/dev/null 2>&1\n",
        "!pkill ngrok >/dev/null 2>&1 #<-- Added this line to kill old ngrok tunnels\n",
        "!rm -f nohup.out\n",
        "\n",
        "# 2. Run Streamlit in the background\n",
        "!nohup streamlit run app.py --server.port 8501 --server.headless True > nohup.out 2>&1 &\n",
        "\n",
        "# 3. Wait for Streamlit to start up\n",
        "import time\n",
        "time.sleep(10)\n",
        "\n",
        "# 4. Get the public URL from ngrok\n",
        "from pyngrok import ngrok\n",
        "from google.colab import userdata\n",
        "\n",
        "ngrok_token = userdata.get('NGROK_AUTH_TOKEN')\n",
        "\n",
        "ngrok.set_auth_token(ngrok_token)\n",
        "\n",
        "# Check for existing tunnels before creating a new one\n",
        "tunnels = ngrok.get_tunnels()\n",
        "if tunnels:\n",
        "    public_url = tunnels[0].public_url\n",
        "else:\n",
        "    public_url = ngrok.connect(addr='8501', proto='http')\n",
        "\n",
        "print(f\"Streamlit app is running at: {public_url}\")\n",
        "\n",
        "print(\"\\n--- Streamlit Logs (nohup.out) ---\")\n",
        "!cat nohup.out"
      ],
      "metadata": {
        "id": "JpKrVxSg_5v2",
        "outputId": "566776d0-95e5-4c4c-ec2a-9116dd7245f5",
        "colab": {
          "base_uri": "https://localhost:8080/"
        }
      },
      "execution_count": null,
      "outputs": [
        {
          "output_type": "stream",
          "name": "stdout",
          "text": [
            "Streamlit app is running at: NgrokTunnel: \"https://bf6d-34-145-39-6.ngrok-free.app\" -> \"http://localhost:8501\"\n",
            "\n",
            "--- Streamlit Logs (nohup.out) ---\n",
            "\n",
            "Collecting usage statistics. To deactivate, set browser.gatherUsageStats to false.\n",
            "\n",
            "\n",
            "  You can now view your Streamlit app in your browser.\n",
            "\n",
            "  Local URL: http://localhost:8501\n",
            "  Network URL: http://172.28.0.12:8501\n",
            "  External URL: http://34.145.39.6:8501\n",
            "\n"
          ]
        }
      ]
    }
  ],
  "metadata": {
    "colab": {
      "provenance": []
    },
    "kernelspec": {
      "display_name": "Python 3",
      "name": "python3"
    },
    "language_info": {
      "name": "python"
    }
  },
  "nbformat": 4,
  "nbformat_minor": 0
}